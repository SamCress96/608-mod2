{
 "cells": [
  {
   "cell_type": "markdown",
   "id": "69c8f593-a6aa-40aa-85f1-4f11a57fbd42",
   "metadata": {},
   "source": [
    "Self Check: Write python statements that perform tasks from sections pseudocode:"
   ]
  },
  {
   "cell_type": "code",
   "execution_count": 124,
   "id": "ad711734-f81a-4db6-acbb-5dd1299bcaff",
   "metadata": {},
   "outputs": [
    {
     "name": "stdin",
     "output_type": "stream",
     "text": [
      "Enter first integer:  10\n"
     ]
    }
   ],
   "source": [
    "number1 = int(input('Enter first integer: '))"
   ]
  },
  {
   "cell_type": "code",
   "execution_count": 126,
   "id": "fb0a2493-9dc0-4888-983b-c884135290c1",
   "metadata": {},
   "outputs": [
    {
     "name": "stdin",
     "output_type": "stream",
     "text": [
      "Enter second integer:  5\n"
     ]
    }
   ],
   "source": [
    "number2 = int(input('Enter second integer: '))"
   ]
  },
  {
   "cell_type": "code",
   "execution_count": 127,
   "id": "6025bd9b-6c8f-4a65-b183-126ce46c27eb",
   "metadata": {},
   "outputs": [],
   "source": [
    "total = number1 + number2"
   ]
  },
  {
   "cell_type": "code",
   "execution_count": 128,
   "id": "6dd8a4f1-6f90-4da3-8782-66f8122aa705",
   "metadata": {},
   "outputs": [
    {
     "data": {
      "text/plain": [
       "15"
      ]
     },
     "execution_count": 128,
     "metadata": {},
     "output_type": "execute_result"
    }
   ],
   "source": [
    "total"
   ]
  },
  {
   "cell_type": "markdown",
   "id": "2210e7cb-8afc-41d7-95af-7583663aa7d4",
   "metadata": {},
   "source": [
    "if Statement practice:"
   ]
  },
  {
   "cell_type": "code",
   "execution_count": 129,
   "id": "bf4c76ad-68c7-497a-b0c7-af40ad22a0c9",
   "metadata": {},
   "outputs": [],
   "source": [
    "grade = 85"
   ]
  },
  {
   "cell_type": "code",
   "execution_count": 130,
   "id": "43f25c80-dad4-410d-9252-93f4c378a0d6",
   "metadata": {},
   "outputs": [
    {
     "name": "stdout",
     "output_type": "stream",
     "text": [
      "Passed\n"
     ]
    }
   ],
   "source": [
    "if grade >= 60:\n",
    "    print ('Passed')"
   ]
  },
  {
   "cell_type": "code",
   "execution_count": 131,
   "id": "29fda97f-b7e7-4db2-8053-aaa8be07541a",
   "metadata": {},
   "outputs": [],
   "source": [
    "grade = 55"
   ]
  },
  {
   "cell_type": "code",
   "execution_count": 132,
   "id": "10a316bf-7b8a-4823-b86b-02f9a96e859e",
   "metadata": {},
   "outputs": [],
   "source": [
    "if grade >= 60:\n",
    "    print ('Passed')"
   ]
  },
  {
   "cell_type": "markdown",
   "id": "c8e1e9da-5cc2-4d78-a376-502eb1dc319b",
   "metadata": {},
   "source": [
    "if else and if....elif....else statement practice:"
   ]
  },
  {
   "cell_type": "code",
   "execution_count": 133,
   "id": "c9b72072-beea-461d-8a08-b3be9d973d83",
   "metadata": {},
   "outputs": [],
   "source": [
    "grade = 85"
   ]
  },
  {
   "cell_type": "code",
   "execution_count": 134,
   "id": "fa8b448a-26c9-4339-864d-41e4e5bb63d5",
   "metadata": {},
   "outputs": [
    {
     "name": "stdout",
     "output_type": "stream",
     "text": [
      "Passed\n"
     ]
    }
   ],
   "source": [
    "if grade >=60:\n",
    "    print ('Passed')\n",
    "else:\n",
    "    print ('Failed')"
   ]
  },
  {
   "cell_type": "code",
   "execution_count": 135,
   "id": "d23f9128-9216-44cb-8654-46f2633f9612",
   "metadata": {},
   "outputs": [],
   "source": [
    "grade = 57"
   ]
  },
  {
   "cell_type": "code",
   "execution_count": 136,
   "id": "dd6052a6-5370-4cd6-896a-5fc45b44589c",
   "metadata": {},
   "outputs": [
    {
     "name": "stdout",
     "output_type": "stream",
     "text": [
      "Failed\n"
     ]
    }
   ],
   "source": [
    "if grade >=60:\n",
    "    print ('Passed')\n",
    "else:\n",
    "    print ('Failed')"
   ]
  },
  {
   "cell_type": "code",
   "execution_count": 137,
   "id": "349b7590-3431-4a54-85ea-1d48dc1d701c",
   "metadata": {},
   "outputs": [],
   "source": [
    "grade= 99"
   ]
  },
  {
   "cell_type": "code",
   "execution_count": 138,
   "id": "2bd2de43-d100-45ea-9ff5-983cfad5a3c9",
   "metadata": {},
   "outputs": [
    {
     "name": "stdout",
     "output_type": "stream",
     "text": [
      "Passed\n"
     ]
    }
   ],
   "source": [
    "if grade >=60:\n",
    "    print ('Passed')\n",
    "else:\n",
    "    print ('Failed')"
   ]
  },
  {
   "cell_type": "code",
   "execution_count": 139,
   "id": "59f831c3-4751-451f-bfa1-254f497c6cef",
   "metadata": {},
   "outputs": [],
   "source": [
    "grade = 87"
   ]
  },
  {
   "cell_type": "code",
   "execution_count": 140,
   "id": "17ecd963-3620-4330-95f1-b33fe78d2024",
   "metadata": {},
   "outputs": [],
   "source": [
    "if grade >= 60:\n",
    "    result = 'Passed'\n",
    "else:\n",
    "    result = 'Failed'"
   ]
  },
  {
   "cell_type": "code",
   "execution_count": 141,
   "id": "73d5df79-b629-4a0a-9bfe-70afb942cbcd",
   "metadata": {},
   "outputs": [
    {
     "data": {
      "text/plain": [
       "'Passed'"
      ]
     },
     "execution_count": 141,
     "metadata": {},
     "output_type": "execute_result"
    }
   ],
   "source": [
    "result"
   ]
  },
  {
   "cell_type": "code",
   "execution_count": 142,
   "id": "5a7e0fcb-1698-418a-9749-0c85bbb85543",
   "metadata": {},
   "outputs": [],
   "source": [
    "result = ('Passed' if grade >=60 else 'Failed')"
   ]
  },
  {
   "cell_type": "code",
   "execution_count": 143,
   "id": "cff14455-9405-4ccf-ad9b-77ff4814eab8",
   "metadata": {},
   "outputs": [
    {
     "data": {
      "text/plain": [
       "'Passed'"
      ]
     },
     "execution_count": 143,
     "metadata": {},
     "output_type": "execute_result"
    }
   ],
   "source": [
    "result"
   ]
  },
  {
   "cell_type": "code",
   "execution_count": 144,
   "id": "d4805e9d-93bf-4d33-8492-ea11dc3b2fe1",
   "metadata": {},
   "outputs": [],
   "source": [
    "grade = 20"
   ]
  },
  {
   "cell_type": "code",
   "execution_count": 145,
   "id": "8751160a-93f1-463c-8aa8-c403a678ba54",
   "metadata": {},
   "outputs": [],
   "source": [
    "result = ('Passed' if grade >=60 else 'Failed')"
   ]
  },
  {
   "cell_type": "code",
   "execution_count": 146,
   "id": "e435a17b-f0fd-4c1d-9124-97700d9df1f4",
   "metadata": {},
   "outputs": [
    {
     "data": {
      "text/plain": [
       "'Failed'"
      ]
     },
     "execution_count": 146,
     "metadata": {},
     "output_type": "execute_result"
    }
   ],
   "source": [
    "result"
   ]
  },
  {
   "cell_type": "code",
   "execution_count": 147,
   "id": "a39f1716-69f7-4ee7-b798-1560cb836bdf",
   "metadata": {},
   "outputs": [
    {
     "data": {
      "text/plain": [
       "'Failed'"
      ]
     },
     "execution_count": 147,
     "metadata": {},
     "output_type": "execute_result"
    }
   ],
   "source": [
    "'Passed' if grade >= 60 else 'Failed'"
   ]
  },
  {
   "cell_type": "code",
   "execution_count": 148,
   "id": "e35be1f6-8c62-44d6-8685-25fe25149d54",
   "metadata": {},
   "outputs": [],
   "source": [
    "grade = 49"
   ]
  },
  {
   "cell_type": "code",
   "execution_count": 149,
   "id": "1f7d849b-58db-4ced-9d9c-10b2437725e0",
   "metadata": {},
   "outputs": [
    {
     "name": "stdout",
     "output_type": "stream",
     "text": [
      "Failed\n",
      "You must take this course again\n"
     ]
    }
   ],
   "source": [
    "if grade >= 60:\n",
    "    print ('Passed')\n",
    "else:\n",
    "    print ('Failed')\n",
    "    print ('You must take this course again')"
   ]
  },
  {
   "cell_type": "code",
   "execution_count": 150,
   "id": "6629ae0e-ed75-49c3-b0d0-bb7d059b13ec",
   "metadata": {},
   "outputs": [],
   "source": [
    "grade = 77"
   ]
  },
  {
   "cell_type": "code",
   "execution_count": 151,
   "id": "adfbdb4a-688f-412d-a215-7dceab6d415a",
   "metadata": {},
   "outputs": [
    {
     "name": "stdout",
     "output_type": "stream",
     "text": [
      "C\n"
     ]
    }
   ],
   "source": [
    "if grade >= 90:\n",
    "    print ('A')\n",
    "elif grade >= 80:\n",
    "    print ('B')\n",
    "elif grade >= 70:\n",
    "    print ('C')\n",
    "elif grade >=60:\n",
    "    print ('D')\n",
    "else:\n",
    "    print ('F')"
   ]
  },
  {
   "cell_type": "markdown",
   "id": "c4071fb9-0fb4-4918-a19f-1f3499bd7fcf",
   "metadata": {},
   "source": [
    "while Statement practice:"
   ]
  },
  {
   "cell_type": "code",
   "execution_count": 152,
   "id": "2a35d503-9bf4-4333-a5bc-f28b84e1b37e",
   "metadata": {},
   "outputs": [],
   "source": [
    "product = 3"
   ]
  },
  {
   "cell_type": "code",
   "execution_count": 153,
   "id": "c46bb6e4-4ed9-4011-a232-3ea7c58b1f3a",
   "metadata": {},
   "outputs": [],
   "source": [
    "while product <= 50:\n",
    "    product = product * 3"
   ]
  },
  {
   "cell_type": "code",
   "execution_count": 154,
   "id": "c9b9fc96-89b1-48b2-82a5-4aa2027446ff",
   "metadata": {},
   "outputs": [
    {
     "data": {
      "text/plain": [
       "81"
      ]
     },
     "execution_count": 154,
     "metadata": {},
     "output_type": "execute_result"
    }
   ],
   "source": [
    "product"
   ]
  },
  {
   "cell_type": "code",
   "execution_count": 155,
   "id": "87445d04-4873-44a2-accc-c795a19879fa",
   "metadata": {},
   "outputs": [],
   "source": [
    "product = 7"
   ]
  },
  {
   "cell_type": "code",
   "execution_count": 156,
   "id": "0eebdffa-c077-42b7-89dd-ec77b42afc6c",
   "metadata": {},
   "outputs": [],
   "source": [
    "while product <= 1000:\n",
    "    product = product * 7"
   ]
  },
  {
   "cell_type": "code",
   "execution_count": 157,
   "id": "03262196-ad44-4034-b107-8fb0bcb2719c",
   "metadata": {},
   "outputs": [
    {
     "data": {
      "text/plain": [
       "2401"
      ]
     },
     "execution_count": 157,
     "metadata": {},
     "output_type": "execute_result"
    }
   ],
   "source": [
    "product"
   ]
  },
  {
   "cell_type": "markdown",
   "id": "03690991-7cd8-4a35-9031-12c6f84b28e2",
   "metadata": {},
   "source": [
    "for statment and range practice:"
   ]
  },
  {
   "cell_type": "code",
   "execution_count": 158,
   "id": "6d0f0060-9b79-4736-9740-c29846f099f1",
   "metadata": {},
   "outputs": [
    {
     "name": "stdout",
     "output_type": "stream",
     "text": [
      "P r o g r a m m i n g "
     ]
    }
   ],
   "source": [
    "for character in 'Programming':\n",
    "    print (character, end=' ')"
   ]
  },
  {
   "cell_type": "code",
   "execution_count": 159,
   "id": "58774861-0ed4-428b-bda0-76f0439f221b",
   "metadata": {},
   "outputs": [
    {
     "name": "stdout",
     "output_type": "stream",
     "text": [
      "10 ,  20 ,  30\n"
     ]
    }
   ],
   "source": [
    "print(10, 20, 30, sep=' ,  ')"
   ]
  },
  {
   "cell_type": "code",
   "execution_count": 160,
   "id": "864fc842-c041-4e74-bffd-461dcd1773fb",
   "metadata": {},
   "outputs": [
    {
     "name": "stdout",
     "output_type": "stream",
     "text": [
      "10,20,30\n"
     ]
    }
   ],
   "source": [
    "print(10, 20, 30, sep=',')"
   ]
  },
  {
   "cell_type": "code",
   "execution_count": 161,
   "id": "fff71861-75fd-4056-96bf-9ba38a51018f",
   "metadata": {},
   "outputs": [],
   "source": [
    "total = 0"
   ]
  },
  {
   "cell_type": "code",
   "execution_count": 162,
   "id": "2384dc07-f80f-4efc-93f2-74453bad45b5",
   "metadata": {},
   "outputs": [],
   "source": [
    "for number in [2, -3, 0, 17, 9]:\n",
    "    total = total + number"
   ]
  },
  {
   "cell_type": "code",
   "execution_count": 163,
   "id": "c1e0a210-5864-46b0-b3af-bbece1a01c12",
   "metadata": {},
   "outputs": [
    {
     "data": {
      "text/plain": [
       "25"
      ]
     },
     "execution_count": 163,
     "metadata": {},
     "output_type": "execute_result"
    }
   ],
   "source": [
    "total"
   ]
  },
  {
   "cell_type": "code",
   "execution_count": 164,
   "id": "9d7fb293-7754-4546-b528-96cbc4e0c97a",
   "metadata": {},
   "outputs": [
    {
     "name": "stdout",
     "output_type": "stream",
     "text": [
      "0 1 2 3 4 5 6 7 8 9 "
     ]
    }
   ],
   "source": [
    "for counter in range(10):\n",
    "    print(counter, end=' ')"
   ]
  },
  {
   "cell_type": "code",
   "execution_count": 165,
   "id": "d0e68148-6e2a-4279-a73f-86bdf579cc7a",
   "metadata": {},
   "outputs": [
    {
     "name": "stdout",
     "output_type": "stream",
     "text": [
      "0 1 2 3 4 5 6 7 8 9 10 11 12 13 14 15 16 17 18 19 "
     ]
    }
   ],
   "source": [
    "for counter in range(20):\n",
    "    print(counter, end=' ')"
   ]
  },
  {
   "cell_type": "code",
   "execution_count": 166,
   "id": "e611e0c9-9e30-4310-a1f2-98bde8d278b2",
   "metadata": {},
   "outputs": [],
   "source": [
    "total = 0"
   ]
  },
  {
   "cell_type": "code",
   "execution_count": 167,
   "id": "49828b62-f6ad-401e-921e-c34c5cfc94f9",
   "metadata": {},
   "outputs": [],
   "source": [
    "for number in range(1000001):\n",
    "    total = total + number"
   ]
  },
  {
   "cell_type": "code",
   "execution_count": 168,
   "id": "0ab599a4-62d6-49d9-86c4-18f81535dbec",
   "metadata": {},
   "outputs": [
    {
     "data": {
      "text/plain": [
       "500000500000"
      ]
     },
     "execution_count": 168,
     "metadata": {},
     "output_type": "execute_result"
    }
   ],
   "source": [
    "total"
   ]
  },
  {
   "cell_type": "markdown",
   "id": "83590195-a397-4c05-bc5b-8cb86fec305e",
   "metadata": {},
   "source": [
    "Augmented Assignments Practice:"
   ]
  },
  {
   "cell_type": "code",
   "execution_count": 169,
   "id": "5cf18218-22be-4f1d-b790-846895d50e7d",
   "metadata": {},
   "outputs": [],
   "source": [
    "total = 0 "
   ]
  },
  {
   "cell_type": "code",
   "execution_count": 170,
   "id": "3305f7d3-c9d6-4f73-8aad-c86f56895141",
   "metadata": {},
   "outputs": [],
   "source": [
    "for number in [1, 2, 3, 4, 5]:\n",
    "    total += number # add number to total and store in number"
   ]
  },
  {
   "cell_type": "code",
   "execution_count": 171,
   "id": "11347d52-ddc4-41a4-93d7-1b5ced5e294c",
   "metadata": {},
   "outputs": [
    {
     "data": {
      "text/plain": [
       "15"
      ]
     },
     "execution_count": 171,
     "metadata": {},
     "output_type": "execute_result"
    }
   ],
   "source": [
    "total"
   ]
  },
  {
   "cell_type": "code",
   "execution_count": 172,
   "id": "081028f9-550e-445f-9bf6-ee32b2546859",
   "metadata": {},
   "outputs": [],
   "source": [
    "x = 12"
   ]
  },
  {
   "cell_type": "code",
   "execution_count": 173,
   "id": "34a23124-e0f1-400f-8d92-33e93335d49b",
   "metadata": {},
   "outputs": [],
   "source": [
    "x **= 2"
   ]
  },
  {
   "cell_type": "code",
   "execution_count": 174,
   "id": "26f8e87a-ce3b-40db-b918-31efdd0c263e",
   "metadata": {},
   "outputs": [
    {
     "data": {
      "text/plain": [
       "144"
      ]
     },
     "execution_count": 174,
     "metadata": {},
     "output_type": "execute_result"
    }
   ],
   "source": [
    "x"
   ]
  },
  {
   "cell_type": "markdown",
   "id": "346f86c3-2abb-4c6c-8e7c-2a886133e4df",
   "metadata": {},
   "source": [
    "Sequence-Controlled Repetition"
   ]
  },
  {
   "cell_type": "code",
   "execution_count": 175,
   "id": "f1ae2af1-7e2e-4b6e-933f-f151593fb27e",
   "metadata": {},
   "outputs": [],
   "source": [
    "# fig03_01.py"
   ]
  },
  {
   "cell_type": "code",
   "execution_count": 176,
   "id": "a8fa67cf-d7c8-4c16-a338-9cac9b28e0ff",
   "metadata": {},
   "outputs": [
    {
     "data": {
      "text/plain": [
       "'Class average program with sequence-controlled repetition.'"
      ]
     },
     "execution_count": 176,
     "metadata": {},
     "output_type": "execute_result"
    }
   ],
   "source": [
    "\"\"\"Class average program with sequence-controlled repetition.\"\"\""
   ]
  },
  {
   "cell_type": "code",
   "execution_count": null,
   "id": "69798251-24a6-411f-8544-0f8c659c48cf",
   "metadata": {},
   "outputs": [],
   "source": []
  },
  {
   "cell_type": "code",
   "execution_count": 177,
   "id": "f0038345-0f08-4882-9c3b-5613f6bc1b64",
   "metadata": {},
   "outputs": [],
   "source": [
    "#initializationphase"
   ]
  },
  {
   "cell_type": "code",
   "execution_count": 178,
   "id": "5c4f11d5-2506-4697-9f5f-d01768949943",
   "metadata": {},
   "outputs": [],
   "source": [
    "total = 0 #sum of grades"
   ]
  },
  {
   "cell_type": "code",
   "execution_count": 179,
   "id": "69220c2a-0bb8-4b11-875d-fa375df79fa4",
   "metadata": {},
   "outputs": [],
   "source": [
    "grade_counter = 0"
   ]
  },
  {
   "cell_type": "code",
   "execution_count": 180,
   "id": "02a086a3-a7dd-4f42-afa2-c470b5d80865",
   "metadata": {},
   "outputs": [],
   "source": [
    "grades = [98, 76, 71, 87, 83, 90, 57, 79, 82, 94] #list of 10 grades"
   ]
  },
  {
   "cell_type": "code",
   "execution_count": null,
   "id": "8e262413-348c-4df6-bbd6-e8d16c0b2ebe",
   "metadata": {},
   "outputs": [],
   "source": []
  },
  {
   "cell_type": "code",
   "execution_count": 181,
   "id": "849aee30-0c76-4f08-8ad8-9eacc4e86e11",
   "metadata": {},
   "outputs": [],
   "source": [
    "#processing phase"
   ]
  },
  {
   "cell_type": "code",
   "execution_count": 182,
   "id": "6df6f0f9-5433-483d-8a15-1421e7c4be51",
   "metadata": {},
   "outputs": [],
   "source": [
    "for grade in grades:\n",
    "    total += grade # add current grade to the running total"
   ]
  },
  {
   "cell_type": "code",
   "execution_count": 183,
   "id": "c5b55617-6adb-42ae-afc1-f09dee1fbfe3",
   "metadata": {},
   "outputs": [],
   "source": [
    "grade_counter += 1 #indicate that one more grade was processed"
   ]
  },
  {
   "cell_type": "code",
   "execution_count": null,
   "id": "0d83a799-8265-4bc4-93a4-ab3c6f517688",
   "metadata": {},
   "outputs": [],
   "source": []
  },
  {
   "cell_type": "code",
   "execution_count": 184,
   "id": "78f03235-66d7-4d3c-8efb-9b19f7502c86",
   "metadata": {},
   "outputs": [],
   "source": [
    "#Terminiationphase"
   ]
  },
  {
   "cell_type": "code",
   "execution_count": 185,
   "id": "cebac957-b1ee-4247-aa6e-87d34aa1be44",
   "metadata": {},
   "outputs": [],
   "source": [
    "average = total / grade_counter"
   ]
  },
  {
   "cell_type": "code",
   "execution_count": 186,
   "id": "ca2818a3-a6fb-4236-a487-6b27a8d55de7",
   "metadata": {},
   "outputs": [
    {
     "name": "stdout",
     "output_type": "stream",
     "text": [
      "Class average is 817.0\n"
     ]
    }
   ],
   "source": [
    "print(f'Class average is {average}')"
   ]
  },
  {
   "cell_type": "markdown",
   "id": "6e3d6f71-1abc-4d90-86ab-74475d76baec",
   "metadata": {},
   "source": [
    "Note: correct class average is 81.7, this code is calculating one decimal place off. Not sure why. "
   ]
  },
  {
   "cell_type": "markdown",
   "id": "eb65535b-18ff-4395-bf97-49ba2fe84dd7",
   "metadata": {},
   "source": [
    "Below is f-string self check"
   ]
  },
  {
   "cell_type": "code",
   "execution_count": 187,
   "id": "8f7720fc-28f0-4b8a-9cfd-b6d7c36e17c7",
   "metadata": {},
   "outputs": [],
   "source": [
    "number1 = 7"
   ]
  },
  {
   "cell_type": "code",
   "execution_count": 188,
   "id": "ea35b8d4-0355-42f6-84a3-3e4969eadda5",
   "metadata": {},
   "outputs": [],
   "source": [
    "number2 = 5"
   ]
  },
  {
   "cell_type": "code",
   "execution_count": 189,
   "id": "87dffa58-9b32-4a00-a779-10c3667b3498",
   "metadata": {},
   "outputs": [
    {
     "name": "stdout",
     "output_type": "stream",
     "text": [
      "7 times 5 is 35 \n"
     ]
    }
   ],
   "source": [
    "print(f'{number1} times {number2} is {number1 * number2} ')"
   ]
  },
  {
   "cell_type": "markdown",
   "id": "1ac68212-eca9-4306-b266-fe752780e3d7",
   "metadata": {},
   "source": [
    "Range Deeper Look Practice:"
   ]
  },
  {
   "cell_type": "code",
   "execution_count": 190,
   "id": "4c19f9d3-ed46-46cd-9a38-01c6f3fdb31b",
   "metadata": {},
   "outputs": [
    {
     "name": "stdout",
     "output_type": "stream",
     "text": [
      "5 6 7 8 9 "
     ]
    }
   ],
   "source": [
    "for number in range(5, 10):\n",
    "    print(number, end=' ')"
   ]
  },
  {
   "cell_type": "code",
   "execution_count": 191,
   "id": "f763e15c-34b5-47aa-8123-268646981eac",
   "metadata": {},
   "outputs": [
    {
     "name": "stdout",
     "output_type": "stream",
     "text": [
      "0 2 4 6 8 "
     ]
    }
   ],
   "source": [
    "for number in range(0, 10, 2):\n",
    "    print(number, end=' ')"
   ]
  },
  {
   "cell_type": "code",
   "execution_count": 192,
   "id": "8dc127e4-59ba-42cc-96c2-490abe955766",
   "metadata": {},
   "outputs": [
    {
     "name": "stdout",
     "output_type": "stream",
     "text": [
      "10 8 6 4 2 "
     ]
    }
   ],
   "source": [
    "for number in range(10, 0, -2):\n",
    "    print(number, end=' ')"
   ]
  },
  {
   "cell_type": "code",
   "execution_count": 193,
   "id": "6f433229-decb-4775-bb2f-d6b1f1445a36",
   "metadata": {},
   "outputs": [
    {
     "name": "stdout",
     "output_type": "stream",
     "text": [
      "99 88 77 66 55 44 33 22 11 0 "
     ]
    }
   ],
   "source": [
    "for number in range(99, -1, -11):\n",
    "    print(number, end=' ')"
   ]
  },
  {
   "cell_type": "code",
   "execution_count": 194,
   "id": "f086031d-4074-4be9-a523-2b257e12b973",
   "metadata": {},
   "outputs": [],
   "source": [
    "total = 0"
   ]
  },
  {
   "cell_type": "code",
   "execution_count": 195,
   "id": "43609543-15d6-479e-a446-9e6fd5c252b0",
   "metadata": {},
   "outputs": [],
   "source": [
    "for number in range(2, 101, 2):\n",
    "    total += number"
   ]
  },
  {
   "cell_type": "code",
   "execution_count": 196,
   "id": "3d4c8377-e41e-49c7-925c-043b7f782109",
   "metadata": {},
   "outputs": [
    {
     "data": {
      "text/plain": [
       "2550"
      ]
     },
     "execution_count": 196,
     "metadata": {},
     "output_type": "execute_result"
    }
   ],
   "source": [
    "total"
   ]
  },
  {
   "cell_type": "markdown",
   "id": "cce01f55-178f-49e9-bf1c-4aab6fa8c752",
   "metadata": {},
   "source": [
    "Break and Continue Statement Practice:"
   ]
  },
  {
   "cell_type": "code",
   "execution_count": 197,
   "id": "6819832e-abee-4ab2-bc85-7c3aa519cfdb",
   "metadata": {},
   "outputs": [
    {
     "name": "stdout",
     "output_type": "stream",
     "text": [
      "0 1 2 3 4 5 6 7 8 9 "
     ]
    }
   ],
   "source": [
    "for number in range(100):\n",
    "    if number ==10:\n",
    "        break\n",
    "    print(number, end=' ')"
   ]
  },
  {
   "cell_type": "code",
   "execution_count": 198,
   "id": "0d212e5b-a1a2-440b-a050-c336a6f79a4f",
   "metadata": {},
   "outputs": [
    {
     "name": "stdout",
     "output_type": "stream",
     "text": [
      "0 1 2 3 4 6 7 8 9 "
     ]
    }
   ],
   "source": [
    "for number in range(10):\n",
    "    if number ==5:\n",
    "        continue\n",
    "    print(number, end=' ')"
   ]
  },
  {
   "cell_type": "markdown",
   "id": "be052603-4792-4fd7-b1f2-37b59a5a0f13",
   "metadata": {},
   "source": [
    "Boolean Operators and, or and not practice:"
   ]
  },
  {
   "cell_type": "code",
   "execution_count": 199,
   "id": "31521bf4-a01f-47f9-ab7c-84cde4db5f4e",
   "metadata": {},
   "outputs": [],
   "source": [
    "gender = 'Female'"
   ]
  },
  {
   "cell_type": "code",
   "execution_count": 200,
   "id": "eb395346-a52f-4513-aa49-ca5ab765161e",
   "metadata": {},
   "outputs": [],
   "source": [
    "age= 70"
   ]
  },
  {
   "cell_type": "code",
   "execution_count": 201,
   "id": "d092dfad-a9ee-486e-a9a7-0f6d6339cbb9",
   "metadata": {},
   "outputs": [
    {
     "name": "stdout",
     "output_type": "stream",
     "text": [
      "Senior Female\n"
     ]
    }
   ],
   "source": [
    "if gender == 'Female' and age >= 65:\n",
    "        print('Senior Female')"
   ]
  },
  {
   "cell_type": "code",
   "execution_count": 202,
   "id": "e5ab3da6-728f-4e26-9d56-94dda17dc467",
   "metadata": {},
   "outputs": [],
   "source": [
    "semester_average = 83"
   ]
  },
  {
   "cell_type": "code",
   "execution_count": 203,
   "id": "db5fd660-f7e5-4398-bab0-8e4ed0cf67a7",
   "metadata": {},
   "outputs": [],
   "source": [
    "final_exam = 95"
   ]
  },
  {
   "cell_type": "code",
   "execution_count": 204,
   "id": "dbefce7f-2558-4c8e-8e76-a0e25eedc027",
   "metadata": {},
   "outputs": [
    {
     "name": "stdout",
     "output_type": "stream",
     "text": [
      "Student gets an A\n"
     ]
    }
   ],
   "source": [
    "if semester_average >= 90 or final_exam >=90:\n",
    "    print ('Student gets an A')"
   ]
  },
  {
   "cell_type": "code",
   "execution_count": 205,
   "id": "9a0b826e-a414-4dfd-ba06-421f7d48106b",
   "metadata": {},
   "outputs": [],
   "source": [
    "grade = 87"
   ]
  },
  {
   "cell_type": "code",
   "execution_count": 206,
   "id": "956e73b6-9a0c-40b1-877c-a2a057120a43",
   "metadata": {},
   "outputs": [
    {
     "name": "stdout",
     "output_type": "stream",
     "text": [
      "The next grade is 87\n"
     ]
    }
   ],
   "source": [
    "if not grade == -1:\n",
    "    print('The next grade is', grade)"
   ]
  },
  {
   "cell_type": "code",
   "execution_count": 207,
   "id": "48fd903f-d3ad-4bd9-9a9b-ef7ab000c8b9",
   "metadata": {},
   "outputs": [
    {
     "name": "stdout",
     "output_type": "stream",
     "text": [
      "The next grade is 87\n"
     ]
    }
   ],
   "source": [
    "if grade != -1:\n",
    "    print('The next grade is', grade)"
   ]
  },
  {
   "cell_type": "code",
   "execution_count": 208,
   "id": "d3c5a950-6111-4fe6-a121-cc2b0badb72b",
   "metadata": {},
   "outputs": [],
   "source": [
    "i = 1"
   ]
  },
  {
   "cell_type": "code",
   "execution_count": 209,
   "id": "925d4705-4510-4ea6-9bd9-c5ca5b1f5444",
   "metadata": {},
   "outputs": [],
   "source": [
    "j = 2"
   ]
  },
  {
   "cell_type": "code",
   "execution_count": 210,
   "id": "9b1341f3-0842-4f37-be93-6e8458ebe103",
   "metadata": {},
   "outputs": [],
   "source": [
    "k = 3"
   ]
  },
  {
   "cell_type": "code",
   "execution_count": 211,
   "id": "98e3b49a-a3ef-4674-a2f2-f6e137d2ab3c",
   "metadata": {},
   "outputs": [],
   "source": [
    "m = 2"
   ]
  },
  {
   "cell_type": "code",
   "execution_count": 212,
   "id": "a5793ca9-3743-4a6c-a41c-d769619c9d06",
   "metadata": {},
   "outputs": [
    {
     "data": {
      "text/plain": [
       "True"
      ]
     },
     "execution_count": 212,
     "metadata": {},
     "output_type": "execute_result"
    }
   ],
   "source": [
    "(i >= 1) and (j < 4)"
   ]
  },
  {
   "cell_type": "code",
   "execution_count": 213,
   "id": "2b1042af-ccfb-473f-be02-9bf06cb2d948",
   "metadata": {},
   "outputs": [
    {
     "data": {
      "text/plain": [
       "False"
      ]
     },
     "execution_count": 213,
     "metadata": {},
     "output_type": "execute_result"
    }
   ],
   "source": [
    "(m <= 99) and (k < m)"
   ]
  },
  {
   "cell_type": "code",
   "execution_count": 214,
   "id": "f3f328fb-26da-4fc6-87d8-13966f1b29fe",
   "metadata": {},
   "outputs": [
    {
     "data": {
      "text/plain": [
       "True"
      ]
     },
     "execution_count": 214,
     "metadata": {},
     "output_type": "execute_result"
    }
   ],
   "source": [
    "(j >= i) or (k == m)"
   ]
  },
  {
   "cell_type": "code",
   "execution_count": 215,
   "id": "e1da0e91-8d07-4ce8-88ad-c2df18507a9c",
   "metadata": {},
   "outputs": [
    {
     "data": {
      "text/plain": [
       "False"
      ]
     },
     "execution_count": 215,
     "metadata": {},
     "output_type": "execute_result"
    }
   ],
   "source": [
    "(k + m < j) or (3 - j >= k)"
   ]
  },
  {
   "cell_type": "code",
   "execution_count": 216,
   "id": "1b6f090a-4115-4c8a-97e2-7b320186e266",
   "metadata": {},
   "outputs": [
    {
     "data": {
      "text/plain": [
       "False"
      ]
     },
     "execution_count": 216,
     "metadata": {},
     "output_type": "execute_result"
    }
   ],
   "source": [
    "not (k > m)"
   ]
  },
  {
   "cell_type": "markdown",
   "id": "8d8caeaa-dc20-4dc2-86b2-6ba03b7d5b39",
   "metadata": {},
   "source": [
    "Measures of Central Tendency Practice:"
   ]
  },
  {
   "cell_type": "code",
   "execution_count": 217,
   "id": "109acefd-9245-4371-95a4-b4230ece8334",
   "metadata": {},
   "outputs": [],
   "source": [
    "grades = [85, 93, 45, 89, 85]"
   ]
  },
  {
   "cell_type": "code",
   "execution_count": 218,
   "id": "0ad60ae8-29c2-496e-8ef1-b742526ea4ec",
   "metadata": {},
   "outputs": [
    {
     "data": {
      "text/plain": [
       "79.4"
      ]
     },
     "execution_count": 218,
     "metadata": {},
     "output_type": "execute_result"
    }
   ],
   "source": [
    "sum(grades) / len(grades)"
   ]
  },
  {
   "cell_type": "code",
   "execution_count": 219,
   "id": "2604d9c0-a5ad-4770-8591-f1e724585307",
   "metadata": {},
   "outputs": [],
   "source": [
    "import statistics"
   ]
  },
  {
   "cell_type": "code",
   "execution_count": 220,
   "id": "2be32bc0-9e2f-49e7-a93d-c41ae63f0cc5",
   "metadata": {},
   "outputs": [
    {
     "data": {
      "text/plain": [
       "85"
      ]
     },
     "execution_count": 220,
     "metadata": {},
     "output_type": "execute_result"
    }
   ],
   "source": [
    "statistics.mode(grades)"
   ]
  },
  {
   "cell_type": "code",
   "execution_count": 221,
   "id": "91450e3a-c348-46e1-b4c6-0ab3d35f1d8e",
   "metadata": {},
   "outputs": [
    {
     "data": {
      "text/plain": [
       "79.4"
      ]
     },
     "execution_count": 221,
     "metadata": {},
     "output_type": "execute_result"
    }
   ],
   "source": [
    "statistics.mean(grades)"
   ]
  },
  {
   "cell_type": "code",
   "execution_count": 222,
   "id": "10b30b11-1e8e-420b-ab03-a0635bb917e3",
   "metadata": {},
   "outputs": [
    {
     "data": {
      "text/plain": [
       "85"
      ]
     },
     "execution_count": 222,
     "metadata": {},
     "output_type": "execute_result"
    }
   ],
   "source": [
    "statistics.median(grades)"
   ]
  },
  {
   "cell_type": "code",
   "execution_count": 223,
   "id": "9d47a7af-dba9-47b6-a9ea-3375ce043456",
   "metadata": {},
   "outputs": [
    {
     "data": {
      "text/plain": [
       "[45, 85, 85, 89, 93]"
      ]
     },
     "execution_count": 223,
     "metadata": {},
     "output_type": "execute_result"
    }
   ],
   "source": [
    "sorted(grades)"
   ]
  },
  {
   "cell_type": "code",
   "execution_count": 224,
   "id": "90760e8d-155d-4b83-a4ed-b88f40e482a0",
   "metadata": {},
   "outputs": [],
   "source": [
    "values = [47, 95, 88, 73, 88, 84]"
   ]
  },
  {
   "cell_type": "code",
   "execution_count": 225,
   "id": "e6ea9a0b-7770-4a7f-8856-93b9dcba9efd",
   "metadata": {},
   "outputs": [
    {
     "data": {
      "text/plain": [
       "79.16666666666667"
      ]
     },
     "execution_count": 225,
     "metadata": {},
     "output_type": "execute_result"
    }
   ],
   "source": [
    "statistics.mean(values)"
   ]
  },
  {
   "cell_type": "code",
   "execution_count": 226,
   "id": "c3207f69-5f0d-4d02-8a7d-1b4bfffb8715",
   "metadata": {},
   "outputs": [
    {
     "data": {
      "text/plain": [
       "88"
      ]
     },
     "execution_count": 226,
     "metadata": {},
     "output_type": "execute_result"
    }
   ],
   "source": [
    "statistics.mode(values)"
   ]
  },
  {
   "cell_type": "code",
   "execution_count": 227,
   "id": "473e0ce8-7974-4ac0-a411-9e2c5095036f",
   "metadata": {},
   "outputs": [
    {
     "data": {
      "text/plain": [
       "86.0"
      ]
     },
     "execution_count": 227,
     "metadata": {},
     "output_type": "execute_result"
    }
   ],
   "source": [
    "statistics.median(values)"
   ]
  },
  {
   "cell_type": "markdown",
   "id": "2c41a73f-b869-415d-bd89-f1121bb6632c",
   "metadata": {},
   "source": [
    "Calculate Measures of Central Tendency- Native Python"
   ]
  },
  {
   "cell_type": "code",
   "execution_count": 228,
   "id": "4412e480-cb5d-4a60-b526-d57541c80833",
   "metadata": {},
   "outputs": [],
   "source": [
    "grades = [47, 95, 88, 73, 88, 84]"
   ]
  },
  {
   "cell_type": "code",
   "execution_count": 229,
   "id": "93043bf6-8bca-4912-9cc2-e49e8516642f",
   "metadata": {},
   "outputs": [
    {
     "data": {
      "text/plain": [
       "6"
      ]
     },
     "execution_count": 229,
     "metadata": {},
     "output_type": "execute_result"
    }
   ],
   "source": [
    "len(grades)"
   ]
  },
  {
   "cell_type": "code",
   "execution_count": 230,
   "id": "3122218c-80eb-4b27-b310-75cccb16b544",
   "metadata": {},
   "outputs": [
    {
     "data": {
      "text/plain": [
       "475"
      ]
     },
     "execution_count": 230,
     "metadata": {},
     "output_type": "execute_result"
    }
   ],
   "source": [
    "sum(grades)"
   ]
  },
  {
   "cell_type": "code",
   "execution_count": 231,
   "id": "2d698898-66a8-4436-9c49-ee2ab0868d32",
   "metadata": {},
   "outputs": [
    {
     "data": {
      "text/plain": [
       "79.16666666666667"
      ]
     },
     "execution_count": 231,
     "metadata": {},
     "output_type": "execute_result"
    }
   ],
   "source": [
    "sum(grades) / len(grades)"
   ]
  },
  {
   "cell_type": "markdown",
   "id": "e1f9322d-44f6-4443-aa0b-867a123de08e",
   "metadata": {},
   "source": [
    "Calculate Measures of Central Tendency- with Statistic Module"
   ]
  },
  {
   "cell_type": "code",
   "execution_count": 232,
   "id": "e687883c-a2a2-4d46-9224-a1c7cfa1d8a5",
   "metadata": {},
   "outputs": [],
   "source": [
    "import statistics"
   ]
  },
  {
   "cell_type": "code",
   "execution_count": 233,
   "id": "1f76be85-13f6-481e-8129-0872e42e5161",
   "metadata": {},
   "outputs": [],
   "source": [
    "grades = [47, 95, 88, 73, 88, 84]"
   ]
  },
  {
   "cell_type": "code",
   "execution_count": 234,
   "id": "9ff329b5-ec7f-498e-b371-5252678ded88",
   "metadata": {},
   "outputs": [
    {
     "data": {
      "text/plain": [
       "79.16666666666667"
      ]
     },
     "execution_count": 234,
     "metadata": {},
     "output_type": "execute_result"
    }
   ],
   "source": [
    "statistics.mean(grades)"
   ]
  },
  {
   "cell_type": "code",
   "execution_count": 235,
   "id": "85d355b6-8813-4b3d-881b-ea5821e4120f",
   "metadata": {},
   "outputs": [
    {
     "data": {
      "text/plain": [
       "86.0"
      ]
     },
     "execution_count": 235,
     "metadata": {},
     "output_type": "execute_result"
    }
   ],
   "source": [
    "statistics.median(grades)"
   ]
  },
  {
   "cell_type": "code",
   "execution_count": 236,
   "id": "f44073dc-a1cc-4343-b8bc-8291ab402395",
   "metadata": {},
   "outputs": [
    {
     "data": {
      "text/plain": [
       "88"
      ]
     },
     "execution_count": 236,
     "metadata": {},
     "output_type": "execute_result"
    }
   ],
   "source": [
    "statistics.mode(grades)"
   ]
  },
  {
   "cell_type": "markdown",
   "id": "dcd94a10-8b5f-444c-bf4b-8705b479be1b",
   "metadata": {},
   "source": [
    "Custom Central Tendency"
   ]
  },
  {
   "cell_type": "code",
   "execution_count": 237,
   "id": "80204e0b-6503-4ecd-a7b9-37f86b0a4d90",
   "metadata": {},
   "outputs": [
    {
     "data": {
      "text/plain": [
       "'Central Tendency Measures of reported daily water intake by glass of 10 adults'"
      ]
     },
     "execution_count": 237,
     "metadata": {},
     "output_type": "execute_result"
    }
   ],
   "source": [
    "\"\"\"Central Tendency Measures of reported daily water intake by glass of 10 adults\"\"\""
   ]
  },
  {
   "cell_type": "code",
   "execution_count": 238,
   "id": "6d3d436b-1cd9-4d48-a36e-c38224507c08",
   "metadata": {},
   "outputs": [],
   "source": [
    "WaterIntake = [6, 5, 9, 10, 3, 2, 5, 8, 4, 5]"
   ]
  },
  {
   "cell_type": "code",
   "execution_count": 239,
   "id": "21337d46-3da9-4687-995d-d7712f2da364",
   "metadata": {},
   "outputs": [
    {
     "data": {
      "text/plain": [
       "10"
      ]
     },
     "execution_count": 239,
     "metadata": {},
     "output_type": "execute_result"
    }
   ],
   "source": [
    "len (WaterIntake)"
   ]
  },
  {
   "cell_type": "code",
   "execution_count": 240,
   "id": "3626c2ab-0df1-451e-a5fa-941380036a41",
   "metadata": {},
   "outputs": [
    {
     "data": {
      "text/plain": [
       "57"
      ]
     },
     "execution_count": 240,
     "metadata": {},
     "output_type": "execute_result"
    }
   ],
   "source": [
    "sum (WaterIntake)"
   ]
  },
  {
   "cell_type": "code",
   "execution_count": 241,
   "id": "3fd9e8ea-a017-4d7a-beeb-2990625b4cf1",
   "metadata": {},
   "outputs": [
    {
     "data": {
      "text/plain": [
       "5.7"
      ]
     },
     "execution_count": 241,
     "metadata": {},
     "output_type": "execute_result"
    }
   ],
   "source": [
    "sum(WaterIntake) / len(WaterIntake)"
   ]
  },
  {
   "cell_type": "code",
   "execution_count": 242,
   "id": "1bb4f0ae-9385-4374-a2d6-04699a0e6c5f",
   "metadata": {},
   "outputs": [],
   "source": [
    "import statistics"
   ]
  },
  {
   "cell_type": "code",
   "execution_count": 243,
   "id": "ce7a21f1-81c3-45a2-9d5c-1a0e9e633c80",
   "metadata": {},
   "outputs": [],
   "source": [
    "WaterIntake = [6, 5, 9, 10, 3, 2, 5, 8, 4, 5]"
   ]
  },
  {
   "cell_type": "code",
   "execution_count": 244,
   "id": "6e4d0f4f-5e75-414c-8b1b-ecba692e254a",
   "metadata": {},
   "outputs": [
    {
     "data": {
      "text/plain": [
       "5.7"
      ]
     },
     "execution_count": 244,
     "metadata": {},
     "output_type": "execute_result"
    }
   ],
   "source": [
    "statistics.mean(WaterIntake)"
   ]
  },
  {
   "cell_type": "code",
   "execution_count": 245,
   "id": "d1635880-8359-4ee6-9708-88206c2a1119",
   "metadata": {},
   "outputs": [
    {
     "data": {
      "text/plain": [
       "5"
      ]
     },
     "execution_count": 245,
     "metadata": {},
     "output_type": "execute_result"
    }
   ],
   "source": [
    "statistics.mode(WaterIntake)"
   ]
  },
  {
   "cell_type": "code",
   "execution_count": 246,
   "id": "5ab62bc8-9473-4d40-b90e-3a2cff999e16",
   "metadata": {},
   "outputs": [
    {
     "data": {
      "text/plain": [
       "5.0"
      ]
     },
     "execution_count": 246,
     "metadata": {},
     "output_type": "execute_result"
    }
   ],
   "source": [
    "statistics.median(WaterIntake)"
   ]
  },
  {
   "cell_type": "code",
   "execution_count": 247,
   "id": "7a5b581f-1a4f-4a60-b449-2178fb558fb4",
   "metadata": {},
   "outputs": [
    {
     "data": {
      "text/plain": [
       "[2, 3, 4, 5, 5, 5, 6, 8, 9, 10]"
      ]
     },
     "execution_count": 247,
     "metadata": {},
     "output_type": "execute_result"
    }
   ],
   "source": [
    "sorted(WaterIntake)"
   ]
  },
  {
   "cell_type": "markdown",
   "id": "3f47a862-6f12-40e5-ad6e-a3bf7eb4e98a",
   "metadata": {},
   "source": [
    "Samantha Cress"
   ]
  }
 ],
 "metadata": {
  "kernelspec": {
   "display_name": "Python 3 (ipykernel)",
   "language": "python",
   "name": "python3"
  },
  "language_info": {
   "codemirror_mode": {
    "name": "ipython",
    "version": 3
   },
   "file_extension": ".py",
   "mimetype": "text/x-python",
   "name": "python",
   "nbconvert_exporter": "python",
   "pygments_lexer": "ipython3",
   "version": "3.9.12"
  }
 },
 "nbformat": 4,
 "nbformat_minor": 5
}
