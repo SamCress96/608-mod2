{
 "cells": [
  {
   "cell_type": "code",
   "execution_count": 2,
   "id": "97216db0-d609-4ed3-a0de-3ac3c3f3016e",
   "metadata": {},
   "outputs": [
    {
     "name": "stdin",
     "output_type": "stream",
     "text": [
      "Enter first integer:  10\n"
     ]
    }
   ],
   "source": [
    "number1 = int(input('Enter first integer: '))"
   ]
  },
  {
   "cell_type": "code",
   "execution_count": 3,
   "id": "eae1f83d-e8d4-4fea-863f-d93adda2b09f",
   "metadata": {},
   "outputs": [
    {
     "name": "stdin",
     "output_type": "stream",
     "text": [
      "Enter second integer:  5\n"
     ]
    }
   ],
   "source": [
    "number2 = int(input('Enter second integer: '))"
   ]
  },
  {
   "cell_type": "code",
   "execution_count": 5,
   "id": "6025bd9b-6c8f-4a65-b183-126ce46c27eb",
   "metadata": {},
   "outputs": [],
   "source": [
    "total = number1 + number2"
   ]
  },
  {
   "cell_type": "code",
   "execution_count": 6,
   "id": "74322653-d0bc-446a-8da1-ea20c1069b9e",
   "metadata": {},
   "outputs": [
    {
     "name": "stdout",
     "output_type": "stream",
     "text": [
      "The sum of 10 and 5 is 15\n"
     ]
    }
   ],
   "source": [
    "print ('The sum of', number1, 'and', number2, 'is', total)"
   ]
  },
  {
   "cell_type": "code",
   "execution_count": 8,
   "id": "bf4c76ad-68c7-497a-b0c7-af40ad22a0c9",
   "metadata": {},
   "outputs": [],
   "source": [
    "grade = 85"
   ]
  },
  {
   "cell_type": "code",
   "execution_count": 10,
   "id": "43f25c80-dad4-410d-9252-93f4c378a0d6",
   "metadata": {},
   "outputs": [
    {
     "name": "stdout",
     "output_type": "stream",
     "text": [
      "Passed\n"
     ]
    }
   ],
   "source": [
    "if grade >= 60:\n",
    "    print ('Passed')"
   ]
  },
  {
   "cell_type": "code",
   "execution_count": 12,
   "id": "29fda97f-b7e7-4db2-8053-aaa8be07541a",
   "metadata": {},
   "outputs": [],
   "source": [
    "grade = 55"
   ]
  },
  {
   "cell_type": "code",
   "execution_count": 14,
   "id": "10a316bf-7b8a-4823-b86b-02f9a96e859e",
   "metadata": {},
   "outputs": [],
   "source": [
    "if grade >= 60:\n",
    "    print ('Passed')"
   ]
  },
  {
   "cell_type": "code",
   "execution_count": 15,
   "id": "c9b72072-beea-461d-8a08-b3be9d973d83",
   "metadata": {},
   "outputs": [],
   "source": [
    "grade = 85"
   ]
  },
  {
   "cell_type": "code",
   "execution_count": 19,
   "id": "fa8b448a-26c9-4339-864d-41e4e5bb63d5",
   "metadata": {},
   "outputs": [
    {
     "name": "stdout",
     "output_type": "stream",
     "text": [
      "Passed\n"
     ]
    }
   ],
   "source": [
    "if grade >=60:\n",
    "    print ('Passed')\n",
    "else:\n",
    "    print ('Failed')"
   ]
  },
  {
   "cell_type": "code",
   "execution_count": 28,
   "id": "d23f9128-9216-44cb-8654-46f2633f9612",
   "metadata": {},
   "outputs": [],
   "source": [
    "grade = 57"
   ]
  },
  {
   "cell_type": "code",
   "execution_count": 29,
   "id": "dd6052a6-5370-4cd6-896a-5fc45b44589c",
   "metadata": {},
   "outputs": [
    {
     "name": "stdout",
     "output_type": "stream",
     "text": [
      "Failed\n"
     ]
    }
   ],
   "source": [
    "if grade >=60:\n",
    "    print ('Passed')\n",
    "else:\n",
    "    print ('Failed')"
   ]
  },
  {
   "cell_type": "code",
   "execution_count": 23,
   "id": "349b7590-3431-4a54-85ea-1d48dc1d701c",
   "metadata": {},
   "outputs": [],
   "source": [
    "grade= 99"
   ]
  },
  {
   "cell_type": "code",
   "execution_count": 19,
   "id": "2bd2de43-d100-45ea-9ff5-983cfad5a3c9",
   "metadata": {},
   "outputs": [
    {
     "name": "stdout",
     "output_type": "stream",
     "text": [
      "Passed\n"
     ]
    }
   ],
   "source": [
    "if grade >=60:\n",
    "    print ('Passed')\n",
    "else:\n",
    "    print ('Failed')"
   ]
  },
  {
   "cell_type": "code",
   "execution_count": 30,
   "id": "59f831c3-4751-451f-bfa1-254f497c6cef",
   "metadata": {},
   "outputs": [],
   "source": [
    "grade = 87"
   ]
  },
  {
   "cell_type": "code",
   "execution_count": 31,
   "id": "17ecd963-3620-4330-95f1-b33fe78d2024",
   "metadata": {},
   "outputs": [],
   "source": [
    "if grade >= 60:\n",
    "    result = 'Passed'\n",
    "else:\n",
    "    result = 'Failed'"
   ]
  },
  {
   "cell_type": "code",
   "execution_count": 32,
   "id": "73d5df79-b629-4a0a-9bfe-70afb942cbcd",
   "metadata": {},
   "outputs": [
    {
     "data": {
      "text/plain": [
       "'Passed'"
      ]
     },
     "execution_count": 32,
     "metadata": {},
     "output_type": "execute_result"
    }
   ],
   "source": [
    "result"
   ]
  },
  {
   "cell_type": "code",
   "execution_count": 33,
   "id": "5a7e0fcb-1698-418a-9749-0c85bbb85543",
   "metadata": {},
   "outputs": [],
   "source": [
    "result = ('Passed' if grade >=60 else 'Failed')"
   ]
  },
  {
   "cell_type": "code",
   "execution_count": 34,
   "id": "cff14455-9405-4ccf-ad9b-77ff4814eab8",
   "metadata": {},
   "outputs": [
    {
     "data": {
      "text/plain": [
       "'Passed'"
      ]
     },
     "execution_count": 34,
     "metadata": {},
     "output_type": "execute_result"
    }
   ],
   "source": [
    "result"
   ]
  },
  {
   "cell_type": "code",
   "execution_count": 35,
   "id": "d4805e9d-93bf-4d33-8492-ea11dc3b2fe1",
   "metadata": {},
   "outputs": [],
   "source": [
    "grade = 20"
   ]
  },
  {
   "cell_type": "code",
   "execution_count": 36,
   "id": "8751160a-93f1-463c-8aa8-c403a678ba54",
   "metadata": {},
   "outputs": [],
   "source": [
    "result = ('Passed' if grade >=60 else 'Failed')"
   ]
  },
  {
   "cell_type": "code",
   "execution_count": 37,
   "id": "e435a17b-f0fd-4c1d-9124-97700d9df1f4",
   "metadata": {},
   "outputs": [
    {
     "data": {
      "text/plain": [
       "'Failed'"
      ]
     },
     "execution_count": 37,
     "metadata": {},
     "output_type": "execute_result"
    }
   ],
   "source": [
    "result"
   ]
  },
  {
   "cell_type": "code",
   "execution_count": 39,
   "id": "a39f1716-69f7-4ee7-b798-1560cb836bdf",
   "metadata": {},
   "outputs": [
    {
     "data": {
      "text/plain": [
       "'Failed'"
      ]
     },
     "execution_count": 39,
     "metadata": {},
     "output_type": "execute_result"
    }
   ],
   "source": [
    "'Passed' if grade >= 60 else 'Failed'"
   ]
  },
  {
   "cell_type": "code",
   "execution_count": 40,
   "id": "e35be1f6-8c62-44d6-8685-25fe25149d54",
   "metadata": {},
   "outputs": [],
   "source": [
    "grade = 49"
   ]
  },
  {
   "cell_type": "code",
   "execution_count": 41,
   "id": "1f7d849b-58db-4ced-9d9c-10b2437725e0",
   "metadata": {},
   "outputs": [
    {
     "name": "stdout",
     "output_type": "stream",
     "text": [
      "Failed\n",
      "You must take this course again\n"
     ]
    }
   ],
   "source": [
    "if grade >= 60:\n",
    "    print ('Passed')\n",
    "else:\n",
    "    print ('Failed')\n",
    "    print ('You must take this course again')"
   ]
  },
  {
   "cell_type": "code",
   "execution_count": 42,
   "id": "6629ae0e-ed75-49c3-b0d0-bb7d059b13ec",
   "metadata": {},
   "outputs": [],
   "source": [
    "grade = 77"
   ]
  },
  {
   "cell_type": "code",
   "execution_count": 53,
   "id": "adfbdb4a-688f-412d-a215-7dceab6d415a",
   "metadata": {},
   "outputs": [
    {
     "name": "stdout",
     "output_type": "stream",
     "text": [
      "C\n"
     ]
    }
   ],
   "source": [
    "if grade >= 90:\n",
    "    print ('A')\n",
    "elif grade >= 80:\n",
    "    print ('B')\n",
    "elif grade >= 70:\n",
    "    print ('C')\n",
    "elif grade >=60:\n",
    "    print ('D')\n",
    "else:\n",
    "    print ('F')"
   ]
  },
  {
   "cell_type": "code",
   "execution_count": 54,
   "id": "bc46a164-9fe9-43e6-9ae6-2c73d2871e6b",
   "metadata": {},
   "outputs": [],
   "source": [
    "grade = 80"
   ]
  },
  {
   "cell_type": "code",
   "execution_count": 55,
   "id": "975e3aed-fd80-4c71-aa68-8b46e62585d1",
   "metadata": {},
   "outputs": [
    {
     "ename": "SyntaxError",
     "evalue": "invalid syntax (2166482702.py, line 5)",
     "output_type": "error",
     "traceback": [
      "\u001b[1;36m  Input \u001b[1;32mIn [55]\u001b[1;36m\u001b[0m\n\u001b[1;33m    elif grade >=80:\u001b[0m\n\u001b[1;37m    ^\u001b[0m\n\u001b[1;31mSyntaxError\u001b[0m\u001b[1;31m:\u001b[0m invalid syntax\n"
     ]
    }
   ],
   "source": [
    "if grade >= 90:\n",
    "    print ('A')\n",
    "else:\n",
    "    print ('Not A or B')\n",
    "elif grade >=80:"
   ]
  },
  {
   "cell_type": "code",
   "execution_count": 56,
   "id": "2a35d503-9bf4-4333-a5bc-f28b84e1b37e",
   "metadata": {},
   "outputs": [],
   "source": [
    "product = 3"
   ]
  },
  {
   "cell_type": "code",
   "execution_count": 57,
   "id": "c46bb6e4-4ed9-4011-a232-3ea7c58b1f3a",
   "metadata": {},
   "outputs": [],
   "source": [
    "while product <= 50:\n",
    "    product = product * 3"
   ]
  },
  {
   "cell_type": "code",
   "execution_count": 58,
   "id": "c9b9fc96-89b1-48b2-82a5-4aa2027446ff",
   "metadata": {},
   "outputs": [
    {
     "data": {
      "text/plain": [
       "81"
      ]
     },
     "execution_count": 58,
     "metadata": {},
     "output_type": "execute_result"
    }
   ],
   "source": [
    "product"
   ]
  },
  {
   "cell_type": "code",
   "execution_count": 59,
   "id": "87445d04-4873-44a2-accc-c795a19879fa",
   "metadata": {},
   "outputs": [],
   "source": [
    "product = 7"
   ]
  },
  {
   "cell_type": "code",
   "execution_count": 60,
   "id": "0eebdffa-c077-42b7-89dd-ec77b42afc6c",
   "metadata": {},
   "outputs": [],
   "source": [
    "while product <= 1000:\n",
    "    product = product * 7"
   ]
  },
  {
   "cell_type": "code",
   "execution_count": 61,
   "id": "03262196-ad44-4034-b107-8fb0bcb2719c",
   "metadata": {},
   "outputs": [
    {
     "data": {
      "text/plain": [
       "2401"
      ]
     },
     "execution_count": 61,
     "metadata": {},
     "output_type": "execute_result"
    }
   ],
   "source": [
    "product"
   ]
  },
  {
   "cell_type": "code",
   "execution_count": 63,
   "id": "6d0f0060-9b79-4736-9740-c29846f099f1",
   "metadata": {},
   "outputs": [
    {
     "name": "stdout",
     "output_type": "stream",
     "text": [
      "P r o g r a m m i n g "
     ]
    }
   ],
   "source": [
    "for character in 'Programming':\n",
    "    print (character, end=' ')"
   ]
  },
  {
   "cell_type": "code",
   "execution_count": 64,
   "id": "58774861-0ed4-428b-bda0-76f0439f221b",
   "metadata": {},
   "outputs": [
    {
     "name": "stdout",
     "output_type": "stream",
     "text": [
      "10 ,  20 ,  30\n"
     ]
    }
   ],
   "source": [
    "print(10, 20, 30, sep=' ,  ')"
   ]
  },
  {
   "cell_type": "code",
   "execution_count": 65,
   "id": "864fc842-c041-4e74-bffd-461dcd1773fb",
   "metadata": {},
   "outputs": [
    {
     "name": "stdout",
     "output_type": "stream",
     "text": [
      "10,20,30\n"
     ]
    }
   ],
   "source": [
    "print(10, 20, 30, sep=',')"
   ]
  },
  {
   "cell_type": "code",
   "execution_count": 66,
   "id": "fff71861-75fd-4056-96bf-9ba38a51018f",
   "metadata": {},
   "outputs": [],
   "source": [
    "total = 0"
   ]
  },
  {
   "cell_type": "code",
   "execution_count": 67,
   "id": "2384dc07-f80f-4efc-93f2-74453bad45b5",
   "metadata": {},
   "outputs": [],
   "source": [
    "for number in [2, -3, 0, 17, 9]:\n",
    "    total = total + number"
   ]
  },
  {
   "cell_type": "code",
   "execution_count": 68,
   "id": "c1e0a210-5864-46b0-b3af-bbece1a01c12",
   "metadata": {},
   "outputs": [
    {
     "data": {
      "text/plain": [
       "25"
      ]
     },
     "execution_count": 68,
     "metadata": {},
     "output_type": "execute_result"
    }
   ],
   "source": [
    "total"
   ]
  },
  {
   "cell_type": "code",
   "execution_count": 69,
   "id": "9d7fb293-7754-4546-b528-96cbc4e0c97a",
   "metadata": {},
   "outputs": [
    {
     "name": "stdout",
     "output_type": "stream",
     "text": [
      "0 1 2 3 4 5 6 7 8 9 "
     ]
    }
   ],
   "source": [
    "for counter in range(10):\n",
    "    print(counter, end=' ')"
   ]
  },
  {
   "cell_type": "code",
   "execution_count": 70,
   "id": "d0e68148-6e2a-4279-a73f-86bdf579cc7a",
   "metadata": {},
   "outputs": [
    {
     "name": "stdout",
     "output_type": "stream",
     "text": [
      "0 1 2 3 4 5 6 7 8 9 10 11 12 13 14 15 16 17 18 19 "
     ]
    }
   ],
   "source": [
    "for counter in range(20):\n",
    "    print(counter, end=' ')"
   ]
  },
  {
   "cell_type": "code",
   "execution_count": 78,
   "id": "e611e0c9-9e30-4310-a1f2-98bde8d278b2",
   "metadata": {},
   "outputs": [],
   "source": [
    "total = 0"
   ]
  },
  {
   "cell_type": "code",
   "execution_count": 79,
   "id": "49828b62-f6ad-401e-921e-c34c5cfc94f9",
   "metadata": {},
   "outputs": [],
   "source": [
    "for number in range(1000001):\n",
    "    total = total + number"
   ]
  },
  {
   "cell_type": "code",
   "execution_count": 80,
   "id": "0ab599a4-62d6-49d9-86c4-18f81535dbec",
   "metadata": {},
   "outputs": [
    {
     "data": {
      "text/plain": [
       "500000500000"
      ]
     },
     "execution_count": 80,
     "metadata": {},
     "output_type": "execute_result"
    }
   ],
   "source": [
    "total"
   ]
  },
  {
   "cell_type": "code",
   "execution_count": 85,
   "id": "5cf18218-22be-4f1d-b790-846895d50e7d",
   "metadata": {},
   "outputs": [],
   "source": [
    "total = 0 "
   ]
  },
  {
   "cell_type": "code",
   "execution_count": 88,
   "id": "3305f7d3-c9d6-4f73-8aad-c86f56895141",
   "metadata": {},
   "outputs": [],
   "source": [
    "for number in [1, 2, 3, 4, 5]:\n",
    "    total += number # add number to total and store in number"
   ]
  },
  {
   "cell_type": "code",
   "execution_count": 89,
   "id": "11347d52-ddc4-41a4-93d7-1b5ced5e294c",
   "metadata": {},
   "outputs": [
    {
     "data": {
      "text/plain": [
       "15"
      ]
     },
     "execution_count": 89,
     "metadata": {},
     "output_type": "execute_result"
    }
   ],
   "source": [
    "total"
   ]
  },
  {
   "cell_type": "code",
   "execution_count": 93,
   "id": "081028f9-550e-445f-9bf6-ee32b2546859",
   "metadata": {},
   "outputs": [],
   "source": [
    "x = 12"
   ]
  },
  {
   "cell_type": "code",
   "execution_count": 94,
   "id": "34a23124-e0f1-400f-8d92-33e93335d49b",
   "metadata": {},
   "outputs": [],
   "source": [
    "x **= 2"
   ]
  },
  {
   "cell_type": "code",
   "execution_count": 95,
   "id": "26f8e87a-ce3b-40db-b918-31efdd0c263e",
   "metadata": {},
   "outputs": [
    {
     "data": {
      "text/plain": [
       "144"
      ]
     },
     "execution_count": 95,
     "metadata": {},
     "output_type": "execute_result"
    }
   ],
   "source": [
    "x"
   ]
  },
  {
   "cell_type": "code",
   "execution_count": null,
   "id": "5d7e2ded-01a2-48e1-af4a-d9c2d0322794",
   "metadata": {},
   "outputs": [],
   "source": []
  }
 ],
 "metadata": {
  "kernelspec": {
   "display_name": "Python 3 (ipykernel)",
   "language": "python",
   "name": "python3"
  },
  "language_info": {
   "codemirror_mode": {
    "name": "ipython",
    "version": 3
   },
   "file_extension": ".py",
   "mimetype": "text/x-python",
   "name": "python",
   "nbconvert_exporter": "python",
   "pygments_lexer": "ipython3",
   "version": "3.9.12"
  }
 },
 "nbformat": 4,
 "nbformat_minor": 5
}
