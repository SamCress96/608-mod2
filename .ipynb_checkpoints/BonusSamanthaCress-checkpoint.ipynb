{
 "cells": [
  {
   "cell_type": "markdown",
   "id": "8468bdb0-e346-4f33-a9d0-9f8ddf13d730",
   "metadata": {},
   "source": [
    "Bonus"
   ]
  },
  {
   "cell_type": "code",
   "execution_count": null,
   "id": "927c97af-3bbf-4489-934f-a9f2844ef8d4",
   "metadata": {},
   "outputs": [],
   "source": [
    "\"\"\"Central Tendency Measures for 100 patient survey results\"\"\""
   ]
  },
  {
   "cell_type": "markdown",
   "id": "2de841c1-6753-4781-8909-d52075107605",
   "metadata": {},
   "source": [
    "Note: patient surveys are scored out of 50 possible points, 50 being high, 0 being low"
   ]
  },
  {
   "cell_type": "code",
   "execution_count": 14,
   "id": "d1c202a3-6834-4852-92e3-334795acf33c",
   "metadata": {},
   "outputs": [],
   "source": [
    "SurveyResults = [49, 50, 48, 47, 48, 46, 47, 48, 49, 35, 49, 49, 49, 49, 50, 50, 50, 34, 45, 35, 20, 10, 50, 50, 50, 34, 45, 46, 47, 47, 47, 49, 50, 50, 34, 25, 36, 24, 50, 50, 50, 50, 50, 46, 49, 49, 49, 49,\n",
    "                 50, 50, 50, 50, 50, 47, 47, 45, 46, 50, 50, 50, 49, 34, 31, 30, 35, 25, 10, 45, 46, 47, 50, 30, 32, 45, 46, 49, 49, 49, 49, 49, 49, 25, 24, 26, 27, 10, 50, 50, 50, 49, 49, 49, 49, 47, 48,\n",
    "                 50, 47, 48, 49, 49]"
   ]
  },
  {
   "cell_type": "code",
   "execution_count": 15,
   "id": "45c695bf-fbd3-406b-b7d9-2877d90b9162",
   "metadata": {},
   "outputs": [
    {
     "data": {
      "text/plain": [
       "100"
      ]
     },
     "execution_count": 15,
     "metadata": {},
     "output_type": "execute_result"
    }
   ],
   "source": [
    "len(SurveyResults)"
   ]
  },
  {
   "cell_type": "code",
   "execution_count": 16,
   "id": "30b1840a-da12-40cd-a793-acb939868441",
   "metadata": {},
   "outputs": [
    {
     "data": {
      "text/plain": [
       "4363"
      ]
     },
     "execution_count": 16,
     "metadata": {},
     "output_type": "execute_result"
    }
   ],
   "source": [
    "sum(SurveyResults)"
   ]
  },
  {
   "cell_type": "code",
   "execution_count": 17,
   "id": "40da940f-64f6-4094-bab1-c222f6c4c4e0",
   "metadata": {},
   "outputs": [
    {
     "data": {
      "text/plain": [
       "43.63"
      ]
     },
     "execution_count": 17,
     "metadata": {},
     "output_type": "execute_result"
    }
   ],
   "source": [
    "sum(SurveyResults) / len(SurveyResults)"
   ]
  },
  {
   "cell_type": "code",
   "execution_count": 20,
   "id": "7e188bc7-838d-45db-b04b-d13c52dcbd2b",
   "metadata": {},
   "outputs": [],
   "source": [
    "import statistics"
   ]
  },
  {
   "cell_type": "code",
   "execution_count": 21,
   "id": "b333a234-973c-4f41-9293-e879476ca0b9",
   "metadata": {},
   "outputs": [
    {
     "data": {
      "text/plain": [
       "43.63"
      ]
     },
     "execution_count": 21,
     "metadata": {},
     "output_type": "execute_result"
    }
   ],
   "source": [
    "statistics.mean(SurveyResults)"
   ]
  },
  {
   "cell_type": "code",
   "execution_count": 22,
   "id": "c831107a-fcd9-4d23-9e70-a25abc96d94d",
   "metadata": {},
   "outputs": [
    {
     "data": {
      "text/plain": [
       "50"
      ]
     },
     "execution_count": 22,
     "metadata": {},
     "output_type": "execute_result"
    }
   ],
   "source": [
    "statistics.mode(SurveyResults)"
   ]
  },
  {
   "cell_type": "code",
   "execution_count": 23,
   "id": "04b1fc12-cd69-4262-836c-6408e7537d92",
   "metadata": {},
   "outputs": [
    {
     "data": {
      "text/plain": [
       "49.0"
      ]
     },
     "execution_count": 23,
     "metadata": {},
     "output_type": "execute_result"
    }
   ],
   "source": [
    "statistics.median(SurveyResults)"
   ]
  },
  {
   "cell_type": "code",
   "execution_count": 27,
   "id": "afa13da7-8528-4f75-aff3-7ed4fbb3a8d4",
   "metadata": {},
   "outputs": [
    {
     "data": {
      "text/plain": [
       "[10,\n",
       " 10,\n",
       " 10,\n",
       " 20,\n",
       " 24,\n",
       " 24,\n",
       " 25,\n",
       " 25,\n",
       " 25,\n",
       " 26,\n",
       " 27,\n",
       " 30,\n",
       " 30,\n",
       " 31,\n",
       " 32,\n",
       " 34,\n",
       " 34,\n",
       " 34,\n",
       " 34,\n",
       " 35,\n",
       " 35,\n",
       " 35,\n",
       " 36,\n",
       " 45,\n",
       " 45,\n",
       " 45,\n",
       " 45,\n",
       " 45,\n",
       " 46,\n",
       " 46,\n",
       " 46,\n",
       " 46,\n",
       " 46,\n",
       " 46,\n",
       " 47,\n",
       " 47,\n",
       " 47,\n",
       " 47,\n",
       " 47,\n",
       " 47,\n",
       " 47,\n",
       " 47,\n",
       " 47,\n",
       " 47,\n",
       " 48,\n",
       " 48,\n",
       " 48,\n",
       " 48,\n",
       " 48,\n",
       " 49,\n",
       " 49,\n",
       " 49,\n",
       " 49,\n",
       " 49,\n",
       " 49,\n",
       " 49,\n",
       " 49,\n",
       " 49,\n",
       " 49,\n",
       " 49,\n",
       " 49,\n",
       " 49,\n",
       " 49,\n",
       " 49,\n",
       " 49,\n",
       " 49,\n",
       " 49,\n",
       " 49,\n",
       " 49,\n",
       " 49,\n",
       " 49,\n",
       " 49,\n",
       " 49,\n",
       " 50,\n",
       " 50,\n",
       " 50,\n",
       " 50,\n",
       " 50,\n",
       " 50,\n",
       " 50,\n",
       " 50,\n",
       " 50,\n",
       " 50,\n",
       " 50,\n",
       " 50,\n",
       " 50,\n",
       " 50,\n",
       " 50,\n",
       " 50,\n",
       " 50,\n",
       " 50,\n",
       " 50,\n",
       " 50,\n",
       " 50,\n",
       " 50,\n",
       " 50,\n",
       " 50,\n",
       " 50,\n",
       " 50,\n",
       " 50]"
      ]
     },
     "execution_count": 27,
     "metadata": {},
     "output_type": "execute_result"
    }
   ],
   "source": [
    "sorted(SurveyResults)"
   ]
  }
 ],
 "metadata": {
  "kernelspec": {
   "display_name": "Python 3 (ipykernel)",
   "language": "python",
   "name": "python3"
  },
  "language_info": {
   "codemirror_mode": {
    "name": "ipython",
    "version": 3
   },
   "file_extension": ".py",
   "mimetype": "text/x-python",
   "name": "python",
   "nbconvert_exporter": "python",
   "pygments_lexer": "ipython3",
   "version": "3.9.12"
  }
 },
 "nbformat": 4,
 "nbformat_minor": 5
}
